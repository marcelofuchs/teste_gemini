{
  "nbformat": 4,
  "nbformat_minor": 0,
  "metadata": {
    "colab": {
      "provenance": [],
      "toc_visible": true,
      "authorship_tag": "ABX9TyOxTANn5/wwA+rDgQQDfizg",
      "include_colab_link": true
    },
    "kernelspec": {
      "name": "python3",
      "display_name": "Python 3"
    },
    "language_info": {
      "name": "python"
    }
  },
  "cells": [
    {
      "cell_type": "markdown",
      "metadata": {
        "id": "view-in-github",
        "colab_type": "text"
      },
      "source": [
        "<a href=\"https://colab.research.google.com/github/marcelofuchs/teste_gemini/blob/main/chat_gemini.ipynb\" target=\"_parent\"><img src=\"https://colab.research.google.com/assets/colab-badge.svg\" alt=\"Open In Colab\"/></a>"
      ]
    },
    {
      "cell_type": "markdown",
      "source": [
        "Instalando o SDk do Google Colab"
      ],
      "metadata": {
        "id": "Jrb687TenwEV"
      }
    },
    {
      "cell_type": "code",
      "execution_count": null,
      "metadata": {
        "id": "R8jivWO_muDo"
      },
      "outputs": [],
      "source": [
        "!pip install -q -U google-generativeai"
      ]
    },
    {
      "cell_type": "code",
      "source": [
        "import google.generativeai as genai\n",
        "\n",
        "# Or use `os.getenv('GOOGLE_API_KEY')` to fetch an environment variable.\n",
        "GOOGLE_API_KEY='seu codigo aqui'\n",
        "\n",
        "genai.configure(api_key=GOOGLE_API_KEY)"
      ],
      "metadata": {
        "id": "Fkg0hAPUn-3h"
      },
      "execution_count": 33,
      "outputs": []
    },
    {
      "cell_type": "code",
      "source": [
        "for n in genai.list_models():\n",
        "  if 'generateContent' in n.supported_generation_methods:\n",
        "    print(n.name)"
      ],
      "metadata": {
        "colab": {
          "base_uri": "https://localhost:8080/",
          "height": 139
        },
        "id": "A1B38zn8oyRE",
        "outputId": "5c0fe3c5-d86a-4dec-f60f-a26ab52a180e"
      },
      "execution_count": 34,
      "outputs": [
        {
          "output_type": "stream",
          "name": "stdout",
          "text": [
            "models/gemini-1.0-pro\n",
            "models/gemini-1.0-pro-001\n",
            "models/gemini-1.0-pro-latest\n",
            "models/gemini-1.0-pro-vision-latest\n",
            "models/gemini-1.5-pro-latest\n",
            "models/gemini-pro\n",
            "models/gemini-pro-vision\n"
          ]
        }
      ]
    },
    {
      "cell_type": "code",
      "source": [
        "generation_config = {\n",
        "    \"candidate_count\": 1,\n",
        "    \"temperature\": 0.1\n",
        "}"
      ],
      "metadata": {
        "id": "TrdW8oO4qCrh"
      },
      "execution_count": 35,
      "outputs": []
    },
    {
      "cell_type": "code",
      "source": [
        "safely_settings = {\n",
        "  \"HARASSMENT\":\"BLOCK_NONE\",\n",
        "  \"HATE\":\"BLOCK_NONE\",\n",
        "  \"SEXUAL\":\"BLOCK_NONE\",\n",
        "  \"DANGEROUS\":\"BLOCK_NONE\"\n",
        "}\n"
      ],
      "metadata": {
        "id": "rvRYum-tqRzL"
      },
      "execution_count": 36,
      "outputs": []
    },
    {
      "cell_type": "code",
      "source": [
        "model = genai.GenerativeModel(\n",
        "      model_name=\"gemini-1.5-pro-latest\",\n",
        "      generation_config=generation_config  ,\n",
        "      safety_settings=safely_settings\n",
        "      )"
      ],
      "metadata": {
        "id": "Zn7BrVUlrITe"
      },
      "execution_count": 37,
      "outputs": []
    },
    {
      "cell_type": "code",
      "source": [
        "response = model.generate_content(\"Vamos aprender sobre IA. Me de sugestoes pera melhorar\")\n",
        "print(response.text)"
      ],
      "metadata": {
        "id": "aTj9r8P2sq08"
      },
      "execution_count": null,
      "outputs": []
    },
    {
      "cell_type": "code",
      "source": [
        "chat = model.start_chat(history=[])"
      ],
      "metadata": {
        "id": "J_ispYI1tLQ2"
      },
      "execution_count": 38,
      "outputs": []
    },
    {
      "cell_type": "code",
      "source": [
        "prompt = input(\"> \")\n",
        "\n",
        "while prompt != \"fim\":\n",
        "  response = chat.send_message(prompt)\n",
        "  print(\"Resposta: \",response.text,\"\\n\")\n",
        "  prompt = input(\"> \")\n",
        "\n"
      ],
      "metadata": {
        "colab": {
          "base_uri": "https://localhost:8080/",
          "height": 1000
        },
        "id": "vIMsL_lrt9Uq",
        "outputId": "b2990c01-1a6b-4ad1-9e64-f9cb1b299a6e"
      },
      "execution_count": 39,
      "outputs": [
        {
          "output_type": "stream",
          "name": "stdout",
          "text": [
            "> como acessar o google photos via   python ??\n",
            "Resposta:  ## Acessando o Google Photos via Python\n",
            "\n",
            "Para acessar o Google Photos via Python, você precisará usar a **Google Photos API**.  Aqui está um guia passo-a-passo:\n",
            "\n",
            "**1. Configurar o projeto no Google Cloud Platform:**\n",
            "\n",
            "* **Crie um projeto:** Acesse o Google Cloud Console ([https://console.cloud.google.com/](https://console.cloud.google.com/)) e crie um novo projeto.\n",
            "* **Habilite a Google Photos API:** No menu de navegação, vá em \"APIs e Serviços\" > \"Biblioteca\" e procure por \"Google Photos API\". Clique nela e ative-a para o seu projeto.\n",
            "* **Crie credenciais:** Vá em \"APIs e Serviços\" > \"Credenciais\" e clique em \"Criar credenciais\". Escolha \"Conta de serviço\" e siga as instruções para criar uma conta de serviço.\n",
            "* **Baixe a chave privada:** Após criar a conta de serviço, baixe a chave privada no formato JSON. Guarde este arquivo em um local seguro.\n",
            "\n",
            "**2. Instalar a biblioteca do Google API Client para Python:**\n",
            "\n",
            "```bash\n",
            "pip install google-api-python-client google-auth-httplib2 google-auth-oauthlib\n",
            "```\n",
            "\n",
            "**3. Escrever o código Python:**\n",
            "\n",
            "```python\n",
            "from googleapiclient.discovery import build\n",
            "from google.oauth2 import service_account\n",
            "\n",
            "# Substitua com o caminho para o arquivo JSON da sua chave privada\n",
            "SERVICE_ACCOUNT_FILE = 'path/to/your/credentials.json'\n",
            "\n",
            "# Define o escopo da API\n",
            "SCOPES = ['https://www.googleapis.com/auth/photoslibrary.readonly']\n",
            "\n",
            "# Cria as credenciais\n",
            "credentials = service_account.Credentials.from_service_account_file(\n",
            "    SERVICE_ACCOUNT_FILE, scopes=SCOPES)\n",
            "\n",
            "# Cria o objeto da API\n",
            "service = build('photoslibrary', 'v1', credentials=credentials)\n",
            "\n",
            "# Lista os álbuns\n",
            "results = service.albums().list(pageSize=10).execute()\n",
            "items = results.get('albums', [])\n",
            "\n",
            "if not items:\n",
            "    print('Nenhum álbum encontrado.')\n",
            "else:\n",
            "    print('Álbuns:')\n",
            "    for item in items:\n",
            "        print(f'{item[\"title\"]} ({item[\"id\"]})')\n",
            "```\n",
            "\n",
            "**Explicação do código:**\n",
            "\n",
            "* **Importa as bibliotecas necessárias:** `googleapiclient.discovery`, `google.oauth2.service_account`\n",
            "* **Define o caminho para o arquivo JSON da chave privada:** `SERVICE_ACCOUNT_FILE`\n",
            "* **Define o escopo da API:** `SCOPES` - neste caso, estamos usando apenas leitura (`readonly`)\n",
            "* **Cria as credenciais:** `service_account.Credentials.from_service_account_file`\n",
            "* **Cria o objeto da API:** `build('photoslibrary', 'v1', credentials=credentials)`\n",
            "* **Lista os álbuns:** `service.albums().list(pageSize=10).execute()`\n",
            "* **Imprime os resultados:** itera pelos álbuns e imprime o título e ID de cada um.\n",
            "\n",
            "**Observações:**\n",
            "\n",
            "* Este código é apenas um exemplo básico. A Google Photos API oferece muitas outras funcionalidades, como:\n",
            "    * Criar álbuns\n",
            "    * Fazer upload de fotos\n",
            "    * Buscar fotos por data, localização, etc.\n",
            "    * Adicionar comentários e curtidas\n",
            "* Consulte a documentação oficial da Google Photos API para mais informações: [https://developers.google.com/photos/library/guides](https://developers.google.com/photos/library/guides)\n",
            "\n",
            "Lembre-se de adaptar o código às suas necessidades e substituir as informações relevantes, como o caminho para o arquivo JSON da chave privada. \n",
            "\n"
          ]
        },
        {
          "output_type": "error",
          "ename": "KeyboardInterrupt",
          "evalue": "Interrupted by user",
          "traceback": [
            "\u001b[0;31m---------------------------------------------------------------------------\u001b[0m",
            "\u001b[0;31mKeyboardInterrupt\u001b[0m                         Traceback (most recent call last)",
            "\u001b[0;32m<ipython-input-39-b8f20fc49ae6>\u001b[0m in \u001b[0;36m<cell line: 3>\u001b[0;34m()\u001b[0m\n\u001b[1;32m      4\u001b[0m   \u001b[0mresponse\u001b[0m \u001b[0;34m=\u001b[0m \u001b[0mchat\u001b[0m\u001b[0;34m.\u001b[0m\u001b[0msend_message\u001b[0m\u001b[0;34m(\u001b[0m\u001b[0mprompt\u001b[0m\u001b[0;34m)\u001b[0m\u001b[0;34m\u001b[0m\u001b[0;34m\u001b[0m\u001b[0m\n\u001b[1;32m      5\u001b[0m   \u001b[0mprint\u001b[0m\u001b[0;34m(\u001b[0m\u001b[0;34m\"Resposta: \"\u001b[0m\u001b[0;34m,\u001b[0m\u001b[0mresponse\u001b[0m\u001b[0;34m.\u001b[0m\u001b[0mtext\u001b[0m\u001b[0;34m,\u001b[0m\u001b[0;34m\"\\n\"\u001b[0m\u001b[0;34m)\u001b[0m\u001b[0;34m\u001b[0m\u001b[0;34m\u001b[0m\u001b[0m\n\u001b[0;32m----> 6\u001b[0;31m   \u001b[0mprompt\u001b[0m \u001b[0;34m=\u001b[0m \u001b[0minput\u001b[0m\u001b[0;34m(\u001b[0m\u001b[0;34m\"> \"\u001b[0m\u001b[0;34m)\u001b[0m\u001b[0;34m\u001b[0m\u001b[0;34m\u001b[0m\u001b[0m\n\u001b[0m\u001b[1;32m      7\u001b[0m \u001b[0;34m\u001b[0m\u001b[0m\n",
            "\u001b[0;32m/usr/local/lib/python3.10/dist-packages/ipykernel/kernelbase.py\u001b[0m in \u001b[0;36mraw_input\u001b[0;34m(self, prompt)\u001b[0m\n\u001b[1;32m    849\u001b[0m                 \u001b[0;34m\"raw_input was called, but this frontend does not support input requests.\"\u001b[0m\u001b[0;34m\u001b[0m\u001b[0;34m\u001b[0m\u001b[0m\n\u001b[1;32m    850\u001b[0m             )\n\u001b[0;32m--> 851\u001b[0;31m         return self._input_request(str(prompt),\n\u001b[0m\u001b[1;32m    852\u001b[0m             \u001b[0mself\u001b[0m\u001b[0;34m.\u001b[0m\u001b[0m_parent_ident\u001b[0m\u001b[0;34m,\u001b[0m\u001b[0;34m\u001b[0m\u001b[0;34m\u001b[0m\u001b[0m\n\u001b[1;32m    853\u001b[0m             \u001b[0mself\u001b[0m\u001b[0;34m.\u001b[0m\u001b[0m_parent_header\u001b[0m\u001b[0;34m,\u001b[0m\u001b[0;34m\u001b[0m\u001b[0;34m\u001b[0m\u001b[0m\n",
            "\u001b[0;32m/usr/local/lib/python3.10/dist-packages/ipykernel/kernelbase.py\u001b[0m in \u001b[0;36m_input_request\u001b[0;34m(self, prompt, ident, parent, password)\u001b[0m\n\u001b[1;32m    893\u001b[0m             \u001b[0;32mexcept\u001b[0m \u001b[0mKeyboardInterrupt\u001b[0m\u001b[0;34m:\u001b[0m\u001b[0;34m\u001b[0m\u001b[0;34m\u001b[0m\u001b[0m\n\u001b[1;32m    894\u001b[0m                 \u001b[0;31m# re-raise KeyboardInterrupt, to truncate traceback\u001b[0m\u001b[0;34m\u001b[0m\u001b[0;34m\u001b[0m\u001b[0m\n\u001b[0;32m--> 895\u001b[0;31m                 \u001b[0;32mraise\u001b[0m \u001b[0mKeyboardInterrupt\u001b[0m\u001b[0;34m(\u001b[0m\u001b[0;34m\"Interrupted by user\"\u001b[0m\u001b[0;34m)\u001b[0m \u001b[0;32mfrom\u001b[0m \u001b[0;32mNone\u001b[0m\u001b[0;34m\u001b[0m\u001b[0;34m\u001b[0m\u001b[0m\n\u001b[0m\u001b[1;32m    896\u001b[0m             \u001b[0;32mexcept\u001b[0m \u001b[0mException\u001b[0m \u001b[0;32mas\u001b[0m \u001b[0me\u001b[0m\u001b[0;34m:\u001b[0m\u001b[0;34m\u001b[0m\u001b[0;34m\u001b[0m\u001b[0m\n\u001b[1;32m    897\u001b[0m                 \u001b[0mself\u001b[0m\u001b[0;34m.\u001b[0m\u001b[0mlog\u001b[0m\u001b[0;34m.\u001b[0m\u001b[0mwarning\u001b[0m\u001b[0;34m(\u001b[0m\u001b[0;34m\"Invalid Message:\"\u001b[0m\u001b[0;34m,\u001b[0m \u001b[0mexc_info\u001b[0m\u001b[0;34m=\u001b[0m\u001b[0;32mTrue\u001b[0m\u001b[0;34m)\u001b[0m\u001b[0;34m\u001b[0m\u001b[0;34m\u001b[0m\u001b[0m\n",
            "\u001b[0;31mKeyboardInterrupt\u001b[0m: Interrupted by user"
          ]
        }
      ]
    },
    {
      "cell_type": "code",
      "source": [],
      "metadata": {
        "id": "ET4CYvRivdZ5"
      },
      "execution_count": null,
      "outputs": []
    },
    {
      "cell_type": "code",
      "source": [],
      "metadata": {
        "id": "sn5iMOzYsCsR"
      },
      "execution_count": null,
      "outputs": []
    }
  ]
}